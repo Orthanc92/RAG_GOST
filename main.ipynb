{
 "cells": [
  {
   "cell_type": "code",
   "id": "initial_id",
   "metadata": {
    "collapsed": true,
    "ExecuteTime": {
     "end_time": "2025-05-30T09:05:56.288295Z",
     "start_time": "2025-05-30T09:05:56.265946Z"
    }
   },
   "source": [
    "from langchain_mistralai import ChatMistralAI\n",
    "from langchain_core.messages import HumanMessage, AIMessage\n",
    "from langchain_core.prompts import ChatPromptTemplate, MessagesPlaceholder\n",
    "\n",
    "llm = ChatMistralAI(\n",
    "    model=\"ministral-7B-instruct\",\n",
    "    temperature=0,\n",
    "    mistral_api_key=\"pOR9cmKEYVZYeeq4axr6FFsVtFAD1yNo\",\n",
    "    max_tokens=150\n",
    ")\n"
   ],
   "outputs": [],
   "execution_count": 2
  },
  {
   "metadata": {
    "ExecuteTime": {
     "end_time": "2025-06-02T10:33:02.787810Z",
     "start_time": "2025-06-02T10:32:50.269787Z"
    }
   },
   "cell_type": "code",
   "source": "!pip install streamlit\n",
   "id": "160365be14d3243f",
   "outputs": [
    {
     "name": "stdout",
     "output_type": "stream",
     "text": [
      "Requirement already satisfied: streamlit in d:\\conda\\lib\\site-packages (1.32.0)\n",
      "Requirement already satisfied: altair<6,>=4.0 in d:\\conda\\lib\\site-packages (from streamlit) (5.0.1)\n",
      "Requirement already satisfied: blinker<2,>=1.0.0 in d:\\conda\\lib\\site-packages (from streamlit) (1.9.0)\n",
      "Requirement already satisfied: cachetools<6,>=4.0 in d:\\conda\\lib\\site-packages (from streamlit) (5.5.2)\n",
      "Requirement already satisfied: click<9,>=7.0 in d:\\conda\\lib\\site-packages (from streamlit) (8.1.8)\n",
      "Requirement already satisfied: numpy<2,>=1.19.3 in d:\\conda\\lib\\site-packages (from streamlit) (1.26.4)\n",
      "Collecting packaging<24,>=16.8 (from streamlit)\n",
      "  Downloading packaging-23.2-py3-none-any.whl.metadata (3.2 kB)\n",
      "Requirement already satisfied: pandas<3,>=1.3.0 in d:\\conda\\lib\\site-packages (from streamlit) (2.2.3)\n",
      "Collecting pillow<11,>=7.1.0 (from streamlit)\n",
      "  Downloading pillow-10.4.0-cp312-cp312-win_amd64.whl.metadata (9.3 kB)\n",
      "Collecting protobuf<5,>=3.20 (from streamlit)\n",
      "  Downloading protobuf-4.25.8-cp310-abi3-win_amd64.whl.metadata (541 bytes)\n",
      "Requirement already satisfied: pyarrow>=7.0 in d:\\conda\\lib\\site-packages (from streamlit) (19.0.0)\n",
      "Requirement already satisfied: requests<3,>=2.27 in d:\\conda\\lib\\site-packages (from streamlit) (2.32.3)\n",
      "Requirement already satisfied: rich<14,>=10.14.0 in d:\\conda\\lib\\site-packages (from streamlit) (13.9.4)\n",
      "Requirement already satisfied: tenacity<9,>=8.1.0 in d:\\conda\\lib\\site-packages (from streamlit) (8.5.0)\n",
      "Requirement already satisfied: toml<2,>=0.10.1 in d:\\conda\\lib\\site-packages (from streamlit) (0.10.2)\n",
      "Requirement already satisfied: typing-extensions<5,>=4.3.0 in d:\\conda\\lib\\site-packages (from streamlit) (4.12.2)\n",
      "Requirement already satisfied: gitpython!=3.1.19,<4,>=3.0.7 in d:\\conda\\lib\\site-packages (from streamlit) (3.1.43)\n",
      "Requirement already satisfied: pydeck<1,>=0.8.0b4 in d:\\conda\\lib\\site-packages (from streamlit) (0.8.0)\n",
      "Requirement already satisfied: tornado<7,>=6.0.3 in d:\\conda\\lib\\site-packages (from streamlit) (6.4.1)\n",
      "Requirement already satisfied: watchdog>=2.1.5 in d:\\conda\\lib\\site-packages (from streamlit) (4.0.1)\n",
      "Requirement already satisfied: jinja2 in d:\\conda\\lib\\site-packages (from altair<6,>=4.0->streamlit) (3.1.4)\n",
      "Requirement already satisfied: jsonschema>=3.0 in d:\\conda\\lib\\site-packages (from altair<6,>=4.0->streamlit) (4.23.0)\n",
      "Requirement already satisfied: toolz in d:\\conda\\lib\\site-packages (from altair<6,>=4.0->streamlit) (0.12.0)\n",
      "Requirement already satisfied: colorama in d:\\conda\\lib\\site-packages (from click<9,>=7.0->streamlit) (0.4.6)\n",
      "Requirement already satisfied: gitdb<5,>=4.0.1 in d:\\conda\\lib\\site-packages (from gitpython!=3.1.19,<4,>=3.0.7->streamlit) (4.0.7)\n",
      "Requirement already satisfied: smmap<5,>=3.0.1 in d:\\conda\\lib\\site-packages (from gitdb<5,>=4.0.1->gitpython!=3.1.19,<4,>=3.0.7->streamlit) (4.0.0)\n",
      "Requirement already satisfied: python-dateutil>=2.8.2 in d:\\conda\\lib\\site-packages (from pandas<3,>=1.3.0->streamlit) (2.9.0.post0)\n",
      "Requirement already satisfied: pytz>=2020.1 in d:\\conda\\lib\\site-packages (from pandas<3,>=1.3.0->streamlit) (2024.1)\n",
      "Requirement already satisfied: tzdata>=2022.7 in d:\\conda\\lib\\site-packages (from pandas<3,>=1.3.0->streamlit) (2023.3)\n",
      "Requirement already satisfied: charset-normalizer<4,>=2 in d:\\conda\\lib\\site-packages (from requests<3,>=2.27->streamlit) (3.4.1)\n",
      "Requirement already satisfied: idna<4,>=2.5 in d:\\conda\\lib\\site-packages (from requests<3,>=2.27->streamlit) (3.7)\n",
      "Requirement already satisfied: urllib3<3,>=1.21.1 in d:\\conda\\lib\\site-packages (from requests<3,>=2.27->streamlit) (2.1.0)\n",
      "Requirement already satisfied: certifi>=2017.4.17 in d:\\conda\\lib\\site-packages (from requests<3,>=2.27->streamlit) (2024.8.30)\n",
      "Requirement already satisfied: markdown-it-py>=2.2.0 in d:\\conda\\lib\\site-packages (from rich<14,>=10.14.0->streamlit) (2.2.0)\n",
      "Requirement already satisfied: pygments<3.0.0,>=2.13.0 in d:\\conda\\lib\\site-packages (from rich<14,>=10.14.0->streamlit) (2.15.1)\n",
      "Requirement already satisfied: MarkupSafe>=2.0 in d:\\conda\\lib\\site-packages (from jinja2->altair<6,>=4.0->streamlit) (3.0.2)\n",
      "Requirement already satisfied: attrs>=22.2.0 in d:\\conda\\lib\\site-packages (from jsonschema>=3.0->altair<6,>=4.0->streamlit) (25.3.0)\n",
      "Requirement already satisfied: jsonschema-specifications>=2023.03.6 in d:\\conda\\lib\\site-packages (from jsonschema>=3.0->altair<6,>=4.0->streamlit) (2023.7.1)\n",
      "Requirement already satisfied: referencing>=0.28.4 in d:\\conda\\lib\\site-packages (from jsonschema>=3.0->altair<6,>=4.0->streamlit) (0.30.2)\n",
      "Requirement already satisfied: rpds-py>=0.7.1 in d:\\conda\\lib\\site-packages (from jsonschema>=3.0->altair<6,>=4.0->streamlit) (0.10.6)\n",
      "Requirement already satisfied: mdurl~=0.1 in d:\\conda\\lib\\site-packages (from markdown-it-py>=2.2.0->rich<14,>=10.14.0->streamlit) (0.1.0)\n",
      "Requirement already satisfied: six>=1.5 in d:\\conda\\lib\\site-packages (from python-dateutil>=2.8.2->pandas<3,>=1.3.0->streamlit) (1.16.0)\n",
      "Downloading packaging-23.2-py3-none-any.whl (53 kB)\n",
      "Downloading pillow-10.4.0-cp312-cp312-win_amd64.whl (2.6 MB)\n",
      "   ---------------------------------------- 0.0/2.6 MB ? eta -:--:--\n",
      "   ---------------- ----------------------- 1.0/2.6 MB 4.2 MB/s eta 0:00:01\n",
      "   -------------------- ------------------- 1.3/2.6 MB 3.0 MB/s eta 0:00:01\n",
      "   -------------------------------- ------- 2.1/2.6 MB 3.4 MB/s eta 0:00:01\n",
      "   ------------------------------------ --- 2.4/2.6 MB 3.0 MB/s eta 0:00:01\n",
      "   ---------------------------------------- 2.6/2.6 MB 2.5 MB/s eta 0:00:00\n",
      "Downloading protobuf-4.25.8-cp310-abi3-win_amd64.whl (413 kB)\n",
      "Installing collected packages: protobuf, pillow, packaging\n",
      "\n",
      "  Attempting uninstall: protobuf\n",
      "\n",
      "    Found existing installation: protobuf 5.29.4\n",
      "\n",
      "    Uninstalling protobuf-5.29.4:\n",
      "\n",
      "      Successfully uninstalled protobuf-5.29.4\n",
      "\n",
      "   ---------------------------------------- 0/3 [protobuf]\n",
      "   ---------------------------------------- 0/3 [protobuf]\n",
      "   ---------------------------------------- 0/3 [protobuf]\n",
      "  Attempting uninstall: pillow\n",
      "   ---------------------------------------- 0/3 [protobuf]\n",
      "    Found existing installation: pillow 11.1.0\n",
      "   ---------------------------------------- 0/3 [protobuf]\n",
      "   ------------- -------------------------- 1/3 [pillow]\n",
      "    Uninstalling pillow-11.1.0:\n",
      "   ------------- -------------------------- 1/3 [pillow]\n",
      "      Successfully uninstalled pillow-11.1.0\n",
      "   ------------- -------------------------- 1/3 [pillow]\n",
      "   ------------- -------------------------- 1/3 [pillow]\n",
      "   ------------- -------------------------- 1/3 [pillow]\n",
      "   ------------- -------------------------- 1/3 [pillow]\n",
      "   ------------- -------------------------- 1/3 [pillow]\n",
      "   ------------- -------------------------- 1/3 [pillow]\n",
      "  Attempting uninstall: packaging\n",
      "   ------------- -------------------------- 1/3 [pillow]\n",
      "    Found existing installation: packaging 24.2\n",
      "   ------------- -------------------------- 1/3 [pillow]\n",
      "    Uninstalling packaging-24.2:\n",
      "   ------------- -------------------------- 1/3 [pillow]\n",
      "      Successfully uninstalled packaging-24.2\n",
      "   ------------- -------------------------- 1/3 [pillow]\n",
      "   -------------------------- ------------- 2/3 [packaging]\n",
      "   ---------------------------------------- 3/3 [packaging]\n",
      "\n",
      "Successfully installed packaging-23.2 pillow-10.4.0 protobuf-4.25.8\n"
     ]
    },
    {
     "name": "stderr",
     "output_type": "stream",
     "text": [
      "ERROR: pip's dependency resolver does not currently take into account all the packages that are installed. This behaviour is the source of the following dependency conflicts.\n",
      "paddleocr 2.8.1 requires pyclipper, which is not installed.\n",
      "chromadb 0.5.23 requires tokenizers<=0.20.3,>=0.13.2, but you have tokenizers 0.21.1 which is incompatible.\n",
      "e2b 1.3.3 requires packaging>=24.1, but you have packaging 23.2 which is incompatible.\n",
      "google-cloud-bigquery 3.31.0 requires packaging>=24.2.0, but you have packaging 23.2 which is incompatible.\n",
      "grpcio-health-checking 1.71.0 requires protobuf<6.0dev,>=5.26.1, but you have protobuf 4.25.8 which is incompatible.\n",
      "grpcio-status 1.71.0 requires protobuf<6.0dev,>=5.26.1, but you have protobuf 4.25.8 which is incompatible.\n",
      "grpcio-tools 1.71.0 requires protobuf<6.0dev,>=5.26.1, but you have protobuf 4.25.8 which is incompatible.\n",
      "langflow 1.4.2 requires faiss-cpu==1.9.0.post1, but you have faiss-cpu 1.11.0 which is incompatible.\n",
      "langflow-base 0.4.2 requires pillow<12.0.0,>=11.1.0, but you have pillow 10.4.0 which is incompatible.\n",
      "langflow-base 0.4.2 requires setuptools<76.0.0,>=70, but you have setuptools 80.9.0 which is incompatible.\n",
      "nemo-toolkit 2.2.1 requires protobuf==3.20.3, but you have protobuf 4.25.8 which is incompatible.\n",
      "opentelemetry-proto 1.31.1 requires protobuf<6.0,>=5.0, but you have protobuf 4.25.8 which is incompatible.\n",
      "paddlepaddle-gpu 2.6.1 requires protobuf<=3.20.2,>=3.1.0; platform_system == \"Windows\", but you have protobuf 4.25.8 which is incompatible.\n",
      "smolagents 1.13.0 requires pillow<11.2.0,>=11.0.0, but you have pillow 10.4.0 which is incompatible.\n",
      "spyder 5.5.1 requires pylint<3.1,>=2.5.0, but you have pylint 3.3.6 which is incompatible.\n"
     ]
    }
   ],
   "execution_count": 1
  },
  {
   "metadata": {
    "ExecuteTime": {
     "end_time": "2025-06-02T15:25:59.950458Z",
     "start_time": "2025-06-02T15:25:59.946955Z"
    }
   },
   "cell_type": "code",
   "source": [
    "prompt_tokens = 1172\n",
    "completion_tokens = 184\n",
    "\n",
    "prompt_cost = (prompt_tokens / 1_000_000) * 2\n",
    "completion_cost = (completion_tokens / 1_000_000) * 8\n",
    "total_cost = prompt_cost + completion_cost\n",
    "\n",
    "print(f\"Total cost: ${total_cost:.6f}\")"
   ],
   "id": "528826581d5d03b1",
   "outputs": [
    {
     "name": "stdout",
     "output_type": "stream",
     "text": [
      "Total cost: $0.003816\n"
     ]
    }
   ],
   "execution_count": 7
  }
 ],
 "metadata": {
  "kernelspec": {
   "display_name": "Python 3",
   "language": "python",
   "name": "python3"
  },
  "language_info": {
   "codemirror_mode": {
    "name": "ipython",
    "version": 2
   },
   "file_extension": ".py",
   "mimetype": "text/x-python",
   "name": "python",
   "nbconvert_exporter": "python",
   "pygments_lexer": "ipython2",
   "version": "2.7.6"
  }
 },
 "nbformat": 4,
 "nbformat_minor": 5
}
